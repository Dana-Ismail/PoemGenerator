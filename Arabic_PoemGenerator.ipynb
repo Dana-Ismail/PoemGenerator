{
  "cells": [
    {
      "cell_type": "code",
      "source": [
        "!pip install tensorflow\n",
        "!pip install keras\n",
        "!pip install transformers\n",
        "!pip install arabicnlp"
      ],
      "metadata": {
        "id": "UUg1xAox7w7h"
      },
      "execution_count": null,
      "outputs": []
    },
    {
      "cell_type": "code",
      "source": [
        "import os\n",
        "import re\n",
        "import json\n",
        "import torch\n",
        "import random\n",
        "import pickle\n",
        "import string\n",
        "import math\n",
        "import numpy as np\n",
        "import pandas as pd\n",
        "import nltk\n",
        "import itertools\n",
        "import unicodedata\n",
        "from collections import Counter\n",
        "import torch.nn as nn\n",
        "import torch.optim as optim\n",
        "from google.colab import drive\n",
        "import torch.nn.functional as F\n",
        "from nltk.corpus import stopwords\n",
        "from nltk.stem import WordNetLemmatizer\n",
        "from nltk.tokenize import word_tokenize\n",
        "from sklearn.metrics import mean_squared_error\n",
        "from sklearn.model_selection import train_test_split\n",
        "from keras.utils import to_categorical\n",
        "from torchvision.transforms import ToTensor\n",
        "from torch.nn.utils.rnn import pad_sequence\n",
        "from torch.utils.data import Dataset, DataLoader, TensorDataset\n",
        "from tensorflow.keras.preprocessing.sequence import pad_sequences\n",
        "from tensorflow.keras.models import Sequential\n",
        "from tensorflow.keras.layers import Embedding, LSTM, Dense\n",
        "from transformers import AutoTokenizer, GPT2Tokenizer, BertForSequenceClassification, BertTokenizer\n",
        "from tokenizers.models import BPE\n",
        "from tokenizers.pre_tokenizers import Whitespace\n",
        "from tokenizers.normalizers import Sequence, NFKC\n",
        "from tokenizers.processors import TemplateProcessing\n",
        "from transformers import AutoTokenizer\n",
        "from tokenizers import Tokenizer, normalizers, pre_tokenizers, processors"
      ],
      "metadata": {
        "id": "XRBZZaTRL9aG"
      },
      "execution_count": null,
      "outputs": []
    },
    {
      "cell_type": "code",
      "source": [
        "drive.mount('/content/drive/')"
      ],
      "metadata": {
        "colab": {
          "base_uri": "https://localhost:8080/"
        },
        "id": "IENmZddE_3If",
        "outputId": "f0cf3a3f-2b56-4628-a5a6-177bf91cc777"
      },
      "execution_count": null,
      "outputs": [
        {
          "output_type": "stream",
          "name": "stdout",
          "text": [
            "Mounted at /content/drive/\n"
          ]
        }
      ]
    },
    {
      "cell_type": "markdown",
      "source": [
        "## Arabic Poem"
      ],
      "metadata": {
        "id": "9sbBta_HMBYz"
      }
    },
    {
      "cell_type": "markdown",
      "source": [
        "## Preprocessing"
      ],
      "metadata": {
        "id": "aPhiA4qVC8AB"
      }
    },
    {
      "cell_type": "code",
      "source": [
        "def analyze_text(text):\n",
        "    # remove punctuation\n",
        "    text = re.sub(\"[\" + string.punctuation + \"]\", \"\", text)\n",
        "    # split text into words\n",
        "    words = text.split()\n",
        "    # count the number of words\n",
        "    num_words = len(words)\n",
        "    # count the frequency of each word\n",
        "    word_freq = Counter(words)\n",
        "    # calculate the number of unique words\n",
        "    num_unique_words = len(word_freq)\n",
        "    # find the most common words\n",
        "    most_common_words = word_freq.most_common(10)\n",
        "    # split text into lines\n",
        "    lines = text.split(\"\\n\")\n",
        "    # count the number of lines\n",
        "    num_lines = len(lines)\n",
        "    return num_lines, num_words, num_unique_words, most_common_words\n",
        "\n",
        "with open('/content/drive/MyDrive/praise-poems.txt', 'r', encoding='utf-8') as file:\n",
        "    text = file.read()\n",
        "\n",
        "# analyze the text\n",
        "num_lines, num_words, num_unique_words, most_common_words = analyze_text(text)\n",
        "\n",
        "# Print the results\n",
        "print(\"Number of lines:\", num_lines)\n",
        "print(\"Number of words:\", num_words)\n",
        "print(\"Number of unique words:\", num_unique_words)\n",
        "print(\"Most common words:\", most_common_words)"
      ],
      "metadata": {
        "colab": {
          "base_uri": "https://localhost:8080/"
        },
        "id": "TvPsWG2UCMcV",
        "outputId": "a0e444e9-bcf4-4f82-c580-efeed56783af"
      },
      "execution_count": null,
      "outputs": [
        {
          "output_type": "stream",
          "name": "stdout",
          "text": [
            "Number of lines: 11346\n",
            "Number of words: 52581\n",
            "Number of unique words: 31692\n",
            "Most common words: [('في', 1048), ('مِن', 426), ('من', 390), ('ما', 385), ('عَلى', 291), ('لا', 286), ('بِهِ', 243), ('مِنَ', 214), ('مِنْ', 192), ('وَلا', 176)]\n"
          ]
        }
      ]
    },
    {
      "cell_type": "code",
      "source": [
        "def clean_arabic_text(text):\n",
        "    # remove punctuation\n",
        "    text = re.sub(\"[\" + string.punctuation + \"]\", \"\", text)\n",
        "    # remove special characters\n",
        "    text = re.sub(\"[^ء-ي0-9\\s]\", \"\", text)\n",
        "    # remove English or non-Arabic words\n",
        "    text = re.sub(\"[a-zA-Z]+\", \"\", text)\n",
        "    # remove diacritics\n",
        "    text = remove_diacritics(text)\n",
        "    # normalize text\n",
        "    text = normalize_text(text)\n",
        "\n",
        "    return text\n",
        "\n",
        "def remove_diacritics(text):\n",
        "    # remove diacritics (e.g., short vowels) from Arabic text\n",
        "    normalized_text = unicodedata.normalize(\"NFKD\", text)\n",
        "    text_without_diacritics = \"\".join(c for c in normalized_text if not unicodedata.combining(c))\n",
        "    return text_without_diacritics\n",
        "\n",
        "def normalize_text(text):\n",
        "    # normalize text using\n",
        "    normalized_text = unicodedata.normalize(\"NFC\", text)\n",
        "    return normalized_text"
      ],
      "metadata": {
        "id": "fFE4jcYyUN8t"
      },
      "execution_count": null,
      "outputs": []
    },
    {
      "cell_type": "code",
      "source": [
        "# clean the text\n",
        "cleaned_text = clean_arabic_text(text)\n",
        "\n",
        "# define a function to tokenize the text into words or sentences\n",
        "def tokenize_text(text):\n",
        "    # tokenize into words\n",
        "    tokenized_text = text.split()\n",
        "    return tokenized_text\n",
        "\n",
        "# tokenize the text\n",
        "tokenized_text = tokenize_text(cleaned_text)"
      ],
      "metadata": {
        "id": "qdDbwhXeXYRI"
      },
      "execution_count": null,
      "outputs": []
    },
    {
      "cell_type": "code",
      "source": [
        "# clean the text\n",
        "cleaned_text = clean_arabic_text(text)\n",
        "tokenizer = BertTokenizer.from_pretrained(\"aubmindlab/bert-base-arabert\")\n",
        "\n",
        "def tokenize_text(text):\n",
        "    # tokenize the text\n",
        "    tokenized_text = tokenizer.tokenize(text)\n",
        "    return tokenized_text\n",
        "\n",
        "# tokenize the text\n",
        "tokenized_text = tokenize_text(cleaned_text)\n",
        "encoded_text = tokenizer.encode(tokenized_text, add_special_tokens=False)"
      ],
      "metadata": {
        "id": "G6qsnDwuC1U_",
        "colab": {
          "base_uri": "https://localhost:8080/",
          "height": 162,
          "referenced_widgets": [
            "3843f58d54ce4b1c89d395bbe679c2d0",
            "09d4da9c0eb8495ab651787423624bf8",
            "a2cdce362523483284732bd50ed4aecb",
            "3336c6c39d0e494b81d0b00ee8dcedfd",
            "4f54e6e9d94c4dabb35006e209904e95",
            "5b0ffb6fc4ab4bcaa5cf7c07d58c5c34",
            "bed29833de8e49dda9acc5773ccb0f62",
            "0034f297250c4013abc126f96c295aba",
            "f5522d421f874f52a54be45c2bf0def7",
            "3930719c021d4b7ca238b3d90366e508",
            "f4e2f266cc5945c0bafc1e178edfbd59",
            "290863b750bf4223b5a36b1d0b754352",
            "34360fc155524a09bc1d67c397c3d035",
            "7b90fbd7e4284f6caa25272edf94ff75",
            "803fd9999fed4032ab7fec295e62b3fa",
            "4dbb781ee8be47c38e5f4de281231b96",
            "85f6698af04c4d58a4913c92cc5e5dc4",
            "d33a25ccf0344b509fac481cb3f3a432",
            "787f0d6b84fd426e8ee77adfa8c49e32",
            "5c7684919a504f08b341e807f24caf9a",
            "581b49de8d614b1999e7bc4993bbae06",
            "5d0b6ae7485c46e29b8bf672285943fb",
            "7364c28c7a9e4b42990615c6498a539c",
            "95b431d7e6394ffdacb384587c14425c",
            "471e133856cc43888f0b896298dc3f4f",
            "cdf8ac95540449a486bfe125e6aa6050",
            "7b88125de43d4ced81e03e1ec931d38f",
            "072e026f6e8c46afbcd429b37cbafd77",
            "47f72485cefb4ec9b65620067fe2bcad",
            "5f140d0d591f4b26bf634df26b5d8852",
            "2e71c673c2cd49d79cc9bf084cc1c085",
            "d0bc29f58cff44a3a427fe7c0e68eb48",
            "332bc022454142e7a4a70b901bc48908",
            "522c82987a0e4d0c8b762c7753f0eed8",
            "7b9c7f603f9f4a02bcb84885be7b5bd1",
            "8fd83fb4efcb4748a5ca675808b514da",
            "cf53b28e71f54d0db2378890debce7d0",
            "6872259e19f74e258bc105e61c5f92ea",
            "038da7cd597541a18944103b14264db4",
            "eebd832201694cc48c321be2a7d70af2",
            "d0f57db7b3994ba8b76c5b5d1330101a",
            "97a2a33588414edbb3f5af8fbb46c22d",
            "13482417e5ed4a72bd514bc8bf7da44d",
            "d2147ea9c7584c0597fabaf6aebac4bb"
          ]
        },
        "outputId": "451f3ca2-27be-4b2c-c2fd-d84023ab04bc"
      },
      "execution_count": null,
      "outputs": [
        {
          "output_type": "display_data",
          "data": {
            "text/plain": [
              "Downloading (…)solve/main/vocab.txt:   0%|          | 0.00/717k [00:00<?, ?B/s]"
            ],
            "application/vnd.jupyter.widget-view+json": {
              "version_major": 2,
              "version_minor": 0,
              "model_id": "3843f58d54ce4b1c89d395bbe679c2d0"
            }
          },
          "metadata": {}
        },
        {
          "output_type": "display_data",
          "data": {
            "text/plain": [
              "Downloading (…)cial_tokens_map.json:   0%|          | 0.00/112 [00:00<?, ?B/s]"
            ],
            "application/vnd.jupyter.widget-view+json": {
              "version_major": 2,
              "version_minor": 0,
              "model_id": "290863b750bf4223b5a36b1d0b754352"
            }
          },
          "metadata": {}
        },
        {
          "output_type": "display_data",
          "data": {
            "text/plain": [
              "Downloading (…)okenizer_config.json:   0%|          | 0.00/637 [00:00<?, ?B/s]"
            ],
            "application/vnd.jupyter.widget-view+json": {
              "version_major": 2,
              "version_minor": 0,
              "model_id": "7364c28c7a9e4b42990615c6498a539c"
            }
          },
          "metadata": {}
        },
        {
          "output_type": "display_data",
          "data": {
            "text/plain": [
              "Downloading (…)lve/main/config.json:   0%|          | 0.00/578 [00:00<?, ?B/s]"
            ],
            "application/vnd.jupyter.widget-view+json": {
              "version_major": 2,
              "version_minor": 0,
              "model_id": "522c82987a0e4d0c8b762c7753f0eed8"
            }
          },
          "metadata": {}
        },
        {
          "output_type": "stream",
          "name": "stderr",
          "text": [
            "Token indices sequence length is longer than the specified maximum sequence length for this model (69711 > 512). Running this sequence through the model will result in indexing errors\n"
          ]
        }
      ]
    },
    {
      "cell_type": "code",
      "source": [
        "encoded_text = encoded_text[:512]"
      ],
      "metadata": {
        "id": "c7l1cvChAHuL"
      },
      "execution_count": null,
      "outputs": []
    },
    {
      "cell_type": "code",
      "source": [
        "tokenized_text[2]"
      ],
      "metadata": {
        "id": "cspOQ-3REUXf",
        "colab": {
          "base_uri": "https://localhost:8080/",
          "height": 35
        },
        "outputId": "fbad33ac-2b88-47e4-9db1-59bd90f43fbb"
      },
      "execution_count": null,
      "outputs": [
        {
          "output_type": "execute_result",
          "data": {
            "text/plain": [
              "'خير'"
            ],
            "application/vnd.google.colaboratory.intrinsic+json": {
              "type": "string"
            }
          },
          "metadata": {},
          "execution_count": 17
        }
      ]
    },
    {
      "cell_type": "markdown",
      "source": [
        "## create a vocabulary mapping and generate input and target sequences.\n",
        "### input_sequences and target_sequences represent the training data, where each input sequence is a list of indices representing a window of words, and the corresponding target sequence is a single index representing the word following the input window."
      ],
      "metadata": {
        "id": "9lywRlgw2pzd"
      }
    },
    {
      "cell_type": "code",
      "source": [
        "vocab = {}\n",
        "index = 0\n",
        "for token in tokenized_text:\n",
        "    if token not in vocab:\n",
        "        vocab[token] = index\n",
        "        index += 1\n",
        "\n",
        "vocabulary_size = len(vocab)\n",
        "window_size = 10  # define the window size for the sliding window (number of tokens in the input sequence)\n",
        "input_sequences = []\n",
        "target_sequences = []\n",
        "\n",
        "for i in range(len(tokenized_text) - window_size):\n",
        "    input_seq = [vocab[token] for token in tokenized_text[i:i+window_size]]\n",
        "    target_seq = vocab[tokenized_text[i+window_size]]\n",
        "    input_sequences.append(input_seq)\n",
        "    target_sequences.append(target_seq)"
      ],
      "metadata": {
        "id": "n9E5BSE5fqEE"
      },
      "execution_count": null,
      "outputs": []
    },
    {
      "cell_type": "code",
      "source": [
        "print(\"unique_tokens:\",vocabulary_size)"
      ],
      "metadata": {
        "colab": {
          "base_uri": "https://localhost:8080/"
        },
        "id": "dJjtBY7y7fqu",
        "outputId": "cd19e367-394c-492b-b28d-5778906bf26d"
      },
      "execution_count": null,
      "outputs": [
        {
          "output_type": "stream",
          "name": "stdout",
          "text": [
            "unique_tokens: 8091\n"
          ]
        }
      ]
    },
    {
      "cell_type": "markdown",
      "source": [
        "# Training"
      ],
      "metadata": {
        "id": "QJ-3__RR3ZTU"
      }
    },
    {
      "cell_type": "code",
      "source": [
        "# split the dataset into training and validation sets\n",
        "train_inputs, val_inputs, train_targets, val_targets = train_test_split(input_sequences, target_sequences, test_size=0.2, random_state=42)\n",
        "\n",
        "# convert sequences to numpy arrays\n",
        "train_inputs = np.array(train_inputs)\n",
        "train_targets = np.array(train_targets)\n",
        "val_inputs = np.array(val_inputs)\n",
        "val_targets = np.array(val_targets)"
      ],
      "metadata": {
        "id": "BeRK6GWihC46"
      },
      "execution_count": null,
      "outputs": []
    },
    {
      "cell_type": "code",
      "source": [
        "len(train_inputs)"
      ],
      "metadata": {
        "colab": {
          "base_uri": "https://localhost:8080/"
        },
        "id": "pFOMP5UuBODc",
        "outputId": "0b6768e6-3ab6-4c73-8cce-225fb6a9b856"
      },
      "execution_count": null,
      "outputs": [
        {
          "output_type": "execute_result",
          "data": {
            "text/plain": [
              "55760"
            ]
          },
          "metadata": {},
          "execution_count": 21
        }
      ]
    },
    {
      "cell_type": "code",
      "source": [
        "len(val_targets)"
      ],
      "metadata": {
        "colab": {
          "base_uri": "https://localhost:8080/"
        },
        "id": "Ga3CtoPYBiBK",
        "outputId": "c4c30c4a-0c90-4c8b-a850-34cdedef6638"
      },
      "execution_count": null,
      "outputs": [
        {
          "output_type": "execute_result",
          "data": {
            "text/plain": [
              "13941"
            ]
          },
          "metadata": {},
          "execution_count": 22
        }
      ]
    },
    {
      "cell_type": "code",
      "source": [
        "# normalize input sequences\n",
        "train_inputs = train_inputs / vocabulary_size\n",
        "val_inputs = val_inputs / vocabulary_size"
      ],
      "metadata": {
        "id": "MGFE9j2C6pQl"
      },
      "execution_count": null,
      "outputs": []
    },
    {
      "cell_type": "code",
      "source": [
        "# convert target sequences to one-hot encoded vectors\n",
        "train_targets = to_categorical(train_targets, num_classes=vocabulary_size)\n",
        "val_targets = to_categorical(val_targets, num_classes=vocabulary_size)"
      ],
      "metadata": {
        "id": "oy-vb_IYA8zC"
      },
      "execution_count": null,
      "outputs": []
    },
    {
      "cell_type": "code",
      "source": [
        "# define the model architecture\n",
        "model = Sequential()\n",
        "model.add(Embedding(vocabulary_size, 100, input_length=window_size))\n",
        "model.add(LSTM(128))\n",
        "model.add(Dense(vocabulary_size, activation='softmax'))"
      ],
      "metadata": {
        "id": "9qPpbCNm62fI"
      },
      "execution_count": null,
      "outputs": []
    },
    {
      "cell_type": "code",
      "source": [
        "# compile the model\n",
        "model.compile(loss='categorical_crossentropy', optimizer='adam')\n",
        "# train the model\n",
        "model.fit(train_inputs, train_targets, validation_data=(val_inputs, val_targets), batch_size=128, epochs=10)"
      ],
      "metadata": {
        "colab": {
          "base_uri": "https://localhost:8080/"
        },
        "id": "5zqBBgvY7Nyi",
        "outputId": "2d643750-605d-4755-ba65-40b4546eff78"
      },
      "execution_count": null,
      "outputs": [
        {
          "output_type": "stream",
          "name": "stdout",
          "text": [
            "Epoch 1/10\n",
            "436/436 [==============================] - 45s 96ms/step - loss: 6.6708 - val_loss: 6.5151\n",
            "Epoch 2/10\n",
            "436/436 [==============================] - 42s 96ms/step - loss: 6.3634 - val_loss: 6.5656\n",
            "Epoch 3/10\n",
            "436/436 [==============================] - 47s 108ms/step - loss: 6.3530 - val_loss: 6.6009\n",
            "Epoch 4/10\n",
            "436/436 [==============================] - 51s 116ms/step - loss: 6.3491 - val_loss: 6.6189\n",
            "Epoch 5/10\n",
            "436/436 [==============================] - 40s 92ms/step - loss: 6.3455 - val_loss: 6.6333\n",
            "Epoch 6/10\n",
            "436/436 [==============================] - 47s 107ms/step - loss: 6.3437 - val_loss: 6.6569\n",
            "Epoch 7/10\n",
            "436/436 [==============================] - 43s 98ms/step - loss: 6.3410 - val_loss: 6.6617\n",
            "Epoch 8/10\n",
            "436/436 [==============================] - 45s 102ms/step - loss: 6.3388 - val_loss: 6.6759\n",
            "Epoch 9/10\n",
            "436/436 [==============================] - 49s 113ms/step - loss: 6.3379 - val_loss: 6.6866\n",
            "Epoch 10/10\n",
            "436/436 [==============================] - 49s 113ms/step - loss: 6.3358 - val_loss: 6.7015\n"
          ]
        },
        {
          "output_type": "execute_result",
          "data": {
            "text/plain": [
              "<keras.callbacks.History at 0x7faccc4ab8b0>"
            ]
          },
          "metadata": {},
          "execution_count": 28
        }
      ]
    },
    {
      "cell_type": "code",
      "source": [
        "# Generate a poem\n",
        "seed_input = \"شمس\"\n",
        "generated_poem = seed_input\n",
        "\n",
        "for _ in range(10):\n",
        "    # tokenize the seed input\n",
        "    tokenized_seed = tokenize_text(seed_input)\n",
        "    if len(tokenized_seed) < window_size:\n",
        "        # pad the seed input if it's shorter than the window size\n",
        "        tokenized_seed = [\"\"] * (window_size - len(tokenized_seed)) + tokenized_seed\n",
        "    # convert the seed input to numerical representation\n",
        "    seed_input_seq = [vocab.get(token, vocab.get('<unk>', 0)) for token in tokenized_seed]\n",
        "    # normalize and reshape the seed input\n",
        "    seed_input_seq = np.array(seed_input_seq) / vocabulary_size\n",
        "    seed_input_seq = seed_input_seq.reshape(1, window_size)\n",
        "    # predict the next token\n",
        "    predictions = model.predict(seed_input_seq)\n",
        "    predicted_indices = np.argmax(predictions, axis=-1)\n",
        "    predicted_tokens = [list(vocab.keys())[list(vocab.values()).index(index)] for index in predicted_indices]\n",
        "    # append the predicted tokens to the generated poem\n",
        "    generated_poem += \" \" + \" \".join(predicted_tokens)\n",
        "    # update the seed input for the next iteration\n",
        "    seed_input = \" \".join(tokenized_seed[1:]) + \" \" + \" \".join(predicted_tokens)\n",
        "\n",
        "print(generated_poem)"
      ],
      "metadata": {
        "colab": {
          "base_uri": "https://localhost:8080/"
        },
        "id": "tZI0FdmD7RD4",
        "outputId": "c0b89ee9-140b-45f8-e67f-72feab640310"
      },
      "execution_count": null,
      "outputs": [
        {
          "output_type": "stream",
          "name": "stdout",
          "text": [
            "1/1 [==============================] - 0s 34ms/step\n",
            "1/1 [==============================] - 0s 39ms/step\n",
            "1/1 [==============================] - 0s 42ms/step\n",
            "1/1 [==============================] - 0s 35ms/step\n",
            "1/1 [==============================] - 0s 37ms/step\n",
            "1/1 [==============================] - 0s 33ms/step\n",
            "1/1 [==============================] - 0s 34ms/step\n",
            "1/1 [==============================] - 0s 46ms/step\n",
            "1/1 [==============================] - 0s 38ms/step\n",
            "1/1 [==============================] - 0s 46ms/step\n",
            "شمس ال ال ال ال ال ال ال ال ال ال\n"
          ]
        }
      ]
    },
    {
      "cell_type": "code",
      "source": [
        "def calculate_perplexity(model, input_sequences, target_labels):\n",
        "    # convert input sequences and target labels to numpy arrays\n",
        "    input_sequences = np.array(input_sequences)\n",
        "    target_labels = np.array(target_labels)\n",
        "    # generate predictions using the model\n",
        "    predictions = model.predict(input_sequences)\n",
        "    # calculate cross-entropy loss\n",
        "    cross_entropy = -np.log(predictions[np.arange(len(target_labels)), target_labels])\n",
        "    # calculate average loss\n",
        "    average_loss = np.mean(cross_entropy)\n",
        "    # calculate perplexity\n",
        "    perplexity = np.exp(average_loss)\n",
        "\n",
        "    return perplexity, average_loss\n",
        "\n",
        "perplexity, avg_loss = calculate_perplexity(model, input_sequences, target_sequences)\n",
        "print(\"Perplexity:\", perplexity)\n",
        "print(\"Avg_LOss:\", avg_loss)"
      ],
      "metadata": {
        "colab": {
          "base_uri": "https://localhost:8080/"
        },
        "id": "T0g3sLBKJJGj",
        "outputId": "a4b8475d-b2a0-4445-94e7-b49e91f4d045"
      },
      "execution_count": null,
      "outputs": [
        {
          "output_type": "stream",
          "name": "stdout",
          "text": [
            "2179/2179 [==============================] - 25s 11ms/step\n",
            "Perplexity: 587.0803\n",
            "Avg_LOss: 6.3751616\n"
          ]
        }
      ]
    },
    {
      "cell_type": "code",
      "source": [],
      "metadata": {
        "id": "EdW-TH2p8H-W"
      },
      "execution_count": null,
      "outputs": []
    }
  ],
  "metadata": {
    "accelerator": "GPU",
    "colab": {
      "provenance": []
    },
    "kernelspec": {
      "display_name": "Python 3",
      "language": "python",
      "name": "python3"
    },
    "language_info": {
      "codemirror_mode": {
        "name": "ipython",
        "version": 3
      },
      "file_extension": ".py",
      "mimetype": "text/x-python",
      "name": "python",
      "nbconvert_exporter": "python",
      "pygments_lexer": "ipython3",
      "version": "3.7.0"
    },
    "widgets": {
      "application/vnd.jupyter.widget-state+json": {
        "3843f58d54ce4b1c89d395bbe679c2d0": {
          "model_module": "@jupyter-widgets/controls",
          "model_name": "HBoxModel",
          "model_module_version": "1.5.0",
          "state": {
            "_dom_classes": [],
            "_model_module": "@jupyter-widgets/controls",
            "_model_module_version": "1.5.0",
            "_model_name": "HBoxModel",
            "_view_count": null,
            "_view_module": "@jupyter-widgets/controls",
            "_view_module_version": "1.5.0",
            "_view_name": "HBoxView",
            "box_style": "",
            "children": [
              "IPY_MODEL_09d4da9c0eb8495ab651787423624bf8",
              "IPY_MODEL_a2cdce362523483284732bd50ed4aecb",
              "IPY_MODEL_3336c6c39d0e494b81d0b00ee8dcedfd"
            ],
            "layout": "IPY_MODEL_4f54e6e9d94c4dabb35006e209904e95"
          }
        },
        "09d4da9c0eb8495ab651787423624bf8": {
          "model_module": "@jupyter-widgets/controls",
          "model_name": "HTMLModel",
          "model_module_version": "1.5.0",
          "state": {
            "_dom_classes": [],
            "_model_module": "@jupyter-widgets/controls",
            "_model_module_version": "1.5.0",
            "_model_name": "HTMLModel",
            "_view_count": null,
            "_view_module": "@jupyter-widgets/controls",
            "_view_module_version": "1.5.0",
            "_view_name": "HTMLView",
            "description": "",
            "description_tooltip": null,
            "layout": "IPY_MODEL_5b0ffb6fc4ab4bcaa5cf7c07d58c5c34",
            "placeholder": "​",
            "style": "IPY_MODEL_bed29833de8e49dda9acc5773ccb0f62",
            "value": "Downloading (…)solve/main/vocab.txt: 100%"
          }
        },
        "a2cdce362523483284732bd50ed4aecb": {
          "model_module": "@jupyter-widgets/controls",
          "model_name": "FloatProgressModel",
          "model_module_version": "1.5.0",
          "state": {
            "_dom_classes": [],
            "_model_module": "@jupyter-widgets/controls",
            "_model_module_version": "1.5.0",
            "_model_name": "FloatProgressModel",
            "_view_count": null,
            "_view_module": "@jupyter-widgets/controls",
            "_view_module_version": "1.5.0",
            "_view_name": "ProgressView",
            "bar_style": "success",
            "description": "",
            "description_tooltip": null,
            "layout": "IPY_MODEL_0034f297250c4013abc126f96c295aba",
            "max": 717153,
            "min": 0,
            "orientation": "horizontal",
            "style": "IPY_MODEL_f5522d421f874f52a54be45c2bf0def7",
            "value": 717153
          }
        },
        "3336c6c39d0e494b81d0b00ee8dcedfd": {
          "model_module": "@jupyter-widgets/controls",
          "model_name": "HTMLModel",
          "model_module_version": "1.5.0",
          "state": {
            "_dom_classes": [],
            "_model_module": "@jupyter-widgets/controls",
            "_model_module_version": "1.5.0",
            "_model_name": "HTMLModel",
            "_view_count": null,
            "_view_module": "@jupyter-widgets/controls",
            "_view_module_version": "1.5.0",
            "_view_name": "HTMLView",
            "description": "",
            "description_tooltip": null,
            "layout": "IPY_MODEL_3930719c021d4b7ca238b3d90366e508",
            "placeholder": "​",
            "style": "IPY_MODEL_f4e2f266cc5945c0bafc1e178edfbd59",
            "value": " 717k/717k [00:00&lt;00:00, 23.9MB/s]"
          }
        },
        "4f54e6e9d94c4dabb35006e209904e95": {
          "model_module": "@jupyter-widgets/base",
          "model_name": "LayoutModel",
          "model_module_version": "1.2.0",
          "state": {
            "_model_module": "@jupyter-widgets/base",
            "_model_module_version": "1.2.0",
            "_model_name": "LayoutModel",
            "_view_count": null,
            "_view_module": "@jupyter-widgets/base",
            "_view_module_version": "1.2.0",
            "_view_name": "LayoutView",
            "align_content": null,
            "align_items": null,
            "align_self": null,
            "border": null,
            "bottom": null,
            "display": null,
            "flex": null,
            "flex_flow": null,
            "grid_area": null,
            "grid_auto_columns": null,
            "grid_auto_flow": null,
            "grid_auto_rows": null,
            "grid_column": null,
            "grid_gap": null,
            "grid_row": null,
            "grid_template_areas": null,
            "grid_template_columns": null,
            "grid_template_rows": null,
            "height": null,
            "justify_content": null,
            "justify_items": null,
            "left": null,
            "margin": null,
            "max_height": null,
            "max_width": null,
            "min_height": null,
            "min_width": null,
            "object_fit": null,
            "object_position": null,
            "order": null,
            "overflow": null,
            "overflow_x": null,
            "overflow_y": null,
            "padding": null,
            "right": null,
            "top": null,
            "visibility": null,
            "width": null
          }
        },
        "5b0ffb6fc4ab4bcaa5cf7c07d58c5c34": {
          "model_module": "@jupyter-widgets/base",
          "model_name": "LayoutModel",
          "model_module_version": "1.2.0",
          "state": {
            "_model_module": "@jupyter-widgets/base",
            "_model_module_version": "1.2.0",
            "_model_name": "LayoutModel",
            "_view_count": null,
            "_view_module": "@jupyter-widgets/base",
            "_view_module_version": "1.2.0",
            "_view_name": "LayoutView",
            "align_content": null,
            "align_items": null,
            "align_self": null,
            "border": null,
            "bottom": null,
            "display": null,
            "flex": null,
            "flex_flow": null,
            "grid_area": null,
            "grid_auto_columns": null,
            "grid_auto_flow": null,
            "grid_auto_rows": null,
            "grid_column": null,
            "grid_gap": null,
            "grid_row": null,
            "grid_template_areas": null,
            "grid_template_columns": null,
            "grid_template_rows": null,
            "height": null,
            "justify_content": null,
            "justify_items": null,
            "left": null,
            "margin": null,
            "max_height": null,
            "max_width": null,
            "min_height": null,
            "min_width": null,
            "object_fit": null,
            "object_position": null,
            "order": null,
            "overflow": null,
            "overflow_x": null,
            "overflow_y": null,
            "padding": null,
            "right": null,
            "top": null,
            "visibility": null,
            "width": null
          }
        },
        "bed29833de8e49dda9acc5773ccb0f62": {
          "model_module": "@jupyter-widgets/controls",
          "model_name": "DescriptionStyleModel",
          "model_module_version": "1.5.0",
          "state": {
            "_model_module": "@jupyter-widgets/controls",
            "_model_module_version": "1.5.0",
            "_model_name": "DescriptionStyleModel",
            "_view_count": null,
            "_view_module": "@jupyter-widgets/base",
            "_view_module_version": "1.2.0",
            "_view_name": "StyleView",
            "description_width": ""
          }
        },
        "0034f297250c4013abc126f96c295aba": {
          "model_module": "@jupyter-widgets/base",
          "model_name": "LayoutModel",
          "model_module_version": "1.2.0",
          "state": {
            "_model_module": "@jupyter-widgets/base",
            "_model_module_version": "1.2.0",
            "_model_name": "LayoutModel",
            "_view_count": null,
            "_view_module": "@jupyter-widgets/base",
            "_view_module_version": "1.2.0",
            "_view_name": "LayoutView",
            "align_content": null,
            "align_items": null,
            "align_self": null,
            "border": null,
            "bottom": null,
            "display": null,
            "flex": null,
            "flex_flow": null,
            "grid_area": null,
            "grid_auto_columns": null,
            "grid_auto_flow": null,
            "grid_auto_rows": null,
            "grid_column": null,
            "grid_gap": null,
            "grid_row": null,
            "grid_template_areas": null,
            "grid_template_columns": null,
            "grid_template_rows": null,
            "height": null,
            "justify_content": null,
            "justify_items": null,
            "left": null,
            "margin": null,
            "max_height": null,
            "max_width": null,
            "min_height": null,
            "min_width": null,
            "object_fit": null,
            "object_position": null,
            "order": null,
            "overflow": null,
            "overflow_x": null,
            "overflow_y": null,
            "padding": null,
            "right": null,
            "top": null,
            "visibility": null,
            "width": null
          }
        },
        "f5522d421f874f52a54be45c2bf0def7": {
          "model_module": "@jupyter-widgets/controls",
          "model_name": "ProgressStyleModel",
          "model_module_version": "1.5.0",
          "state": {
            "_model_module": "@jupyter-widgets/controls",
            "_model_module_version": "1.5.0",
            "_model_name": "ProgressStyleModel",
            "_view_count": null,
            "_view_module": "@jupyter-widgets/base",
            "_view_module_version": "1.2.0",
            "_view_name": "StyleView",
            "bar_color": null,
            "description_width": ""
          }
        },
        "3930719c021d4b7ca238b3d90366e508": {
          "model_module": "@jupyter-widgets/base",
          "model_name": "LayoutModel",
          "model_module_version": "1.2.0",
          "state": {
            "_model_module": "@jupyter-widgets/base",
            "_model_module_version": "1.2.0",
            "_model_name": "LayoutModel",
            "_view_count": null,
            "_view_module": "@jupyter-widgets/base",
            "_view_module_version": "1.2.0",
            "_view_name": "LayoutView",
            "align_content": null,
            "align_items": null,
            "align_self": null,
            "border": null,
            "bottom": null,
            "display": null,
            "flex": null,
            "flex_flow": null,
            "grid_area": null,
            "grid_auto_columns": null,
            "grid_auto_flow": null,
            "grid_auto_rows": null,
            "grid_column": null,
            "grid_gap": null,
            "grid_row": null,
            "grid_template_areas": null,
            "grid_template_columns": null,
            "grid_template_rows": null,
            "height": null,
            "justify_content": null,
            "justify_items": null,
            "left": null,
            "margin": null,
            "max_height": null,
            "max_width": null,
            "min_height": null,
            "min_width": null,
            "object_fit": null,
            "object_position": null,
            "order": null,
            "overflow": null,
            "overflow_x": null,
            "overflow_y": null,
            "padding": null,
            "right": null,
            "top": null,
            "visibility": null,
            "width": null
          }
        },
        "f4e2f266cc5945c0bafc1e178edfbd59": {
          "model_module": "@jupyter-widgets/controls",
          "model_name": "DescriptionStyleModel",
          "model_module_version": "1.5.0",
          "state": {
            "_model_module": "@jupyter-widgets/controls",
            "_model_module_version": "1.5.0",
            "_model_name": "DescriptionStyleModel",
            "_view_count": null,
            "_view_module": "@jupyter-widgets/base",
            "_view_module_version": "1.2.0",
            "_view_name": "StyleView",
            "description_width": ""
          }
        },
        "290863b750bf4223b5a36b1d0b754352": {
          "model_module": "@jupyter-widgets/controls",
          "model_name": "HBoxModel",
          "model_module_version": "1.5.0",
          "state": {
            "_dom_classes": [],
            "_model_module": "@jupyter-widgets/controls",
            "_model_module_version": "1.5.0",
            "_model_name": "HBoxModel",
            "_view_count": null,
            "_view_module": "@jupyter-widgets/controls",
            "_view_module_version": "1.5.0",
            "_view_name": "HBoxView",
            "box_style": "",
            "children": [
              "IPY_MODEL_34360fc155524a09bc1d67c397c3d035",
              "IPY_MODEL_7b90fbd7e4284f6caa25272edf94ff75",
              "IPY_MODEL_803fd9999fed4032ab7fec295e62b3fa"
            ],
            "layout": "IPY_MODEL_4dbb781ee8be47c38e5f4de281231b96"
          }
        },
        "34360fc155524a09bc1d67c397c3d035": {
          "model_module": "@jupyter-widgets/controls",
          "model_name": "HTMLModel",
          "model_module_version": "1.5.0",
          "state": {
            "_dom_classes": [],
            "_model_module": "@jupyter-widgets/controls",
            "_model_module_version": "1.5.0",
            "_model_name": "HTMLModel",
            "_view_count": null,
            "_view_module": "@jupyter-widgets/controls",
            "_view_module_version": "1.5.0",
            "_view_name": "HTMLView",
            "description": "",
            "description_tooltip": null,
            "layout": "IPY_MODEL_85f6698af04c4d58a4913c92cc5e5dc4",
            "placeholder": "​",
            "style": "IPY_MODEL_d33a25ccf0344b509fac481cb3f3a432",
            "value": "Downloading (…)cial_tokens_map.json: 100%"
          }
        },
        "7b90fbd7e4284f6caa25272edf94ff75": {
          "model_module": "@jupyter-widgets/controls",
          "model_name": "FloatProgressModel",
          "model_module_version": "1.5.0",
          "state": {
            "_dom_classes": [],
            "_model_module": "@jupyter-widgets/controls",
            "_model_module_version": "1.5.0",
            "_model_name": "FloatProgressModel",
            "_view_count": null,
            "_view_module": "@jupyter-widgets/controls",
            "_view_module_version": "1.5.0",
            "_view_name": "ProgressView",
            "bar_style": "success",
            "description": "",
            "description_tooltip": null,
            "layout": "IPY_MODEL_787f0d6b84fd426e8ee77adfa8c49e32",
            "max": 112,
            "min": 0,
            "orientation": "horizontal",
            "style": "IPY_MODEL_5c7684919a504f08b341e807f24caf9a",
            "value": 112
          }
        },
        "803fd9999fed4032ab7fec295e62b3fa": {
          "model_module": "@jupyter-widgets/controls",
          "model_name": "HTMLModel",
          "model_module_version": "1.5.0",
          "state": {
            "_dom_classes": [],
            "_model_module": "@jupyter-widgets/controls",
            "_model_module_version": "1.5.0",
            "_model_name": "HTMLModel",
            "_view_count": null,
            "_view_module": "@jupyter-widgets/controls",
            "_view_module_version": "1.5.0",
            "_view_name": "HTMLView",
            "description": "",
            "description_tooltip": null,
            "layout": "IPY_MODEL_581b49de8d614b1999e7bc4993bbae06",
            "placeholder": "​",
            "style": "IPY_MODEL_5d0b6ae7485c46e29b8bf672285943fb",
            "value": " 112/112 [00:00&lt;00:00, 5.62kB/s]"
          }
        },
        "4dbb781ee8be47c38e5f4de281231b96": {
          "model_module": "@jupyter-widgets/base",
          "model_name": "LayoutModel",
          "model_module_version": "1.2.0",
          "state": {
            "_model_module": "@jupyter-widgets/base",
            "_model_module_version": "1.2.0",
            "_model_name": "LayoutModel",
            "_view_count": null,
            "_view_module": "@jupyter-widgets/base",
            "_view_module_version": "1.2.0",
            "_view_name": "LayoutView",
            "align_content": null,
            "align_items": null,
            "align_self": null,
            "border": null,
            "bottom": null,
            "display": null,
            "flex": null,
            "flex_flow": null,
            "grid_area": null,
            "grid_auto_columns": null,
            "grid_auto_flow": null,
            "grid_auto_rows": null,
            "grid_column": null,
            "grid_gap": null,
            "grid_row": null,
            "grid_template_areas": null,
            "grid_template_columns": null,
            "grid_template_rows": null,
            "height": null,
            "justify_content": null,
            "justify_items": null,
            "left": null,
            "margin": null,
            "max_height": null,
            "max_width": null,
            "min_height": null,
            "min_width": null,
            "object_fit": null,
            "object_position": null,
            "order": null,
            "overflow": null,
            "overflow_x": null,
            "overflow_y": null,
            "padding": null,
            "right": null,
            "top": null,
            "visibility": null,
            "width": null
          }
        },
        "85f6698af04c4d58a4913c92cc5e5dc4": {
          "model_module": "@jupyter-widgets/base",
          "model_name": "LayoutModel",
          "model_module_version": "1.2.0",
          "state": {
            "_model_module": "@jupyter-widgets/base",
            "_model_module_version": "1.2.0",
            "_model_name": "LayoutModel",
            "_view_count": null,
            "_view_module": "@jupyter-widgets/base",
            "_view_module_version": "1.2.0",
            "_view_name": "LayoutView",
            "align_content": null,
            "align_items": null,
            "align_self": null,
            "border": null,
            "bottom": null,
            "display": null,
            "flex": null,
            "flex_flow": null,
            "grid_area": null,
            "grid_auto_columns": null,
            "grid_auto_flow": null,
            "grid_auto_rows": null,
            "grid_column": null,
            "grid_gap": null,
            "grid_row": null,
            "grid_template_areas": null,
            "grid_template_columns": null,
            "grid_template_rows": null,
            "height": null,
            "justify_content": null,
            "justify_items": null,
            "left": null,
            "margin": null,
            "max_height": null,
            "max_width": null,
            "min_height": null,
            "min_width": null,
            "object_fit": null,
            "object_position": null,
            "order": null,
            "overflow": null,
            "overflow_x": null,
            "overflow_y": null,
            "padding": null,
            "right": null,
            "top": null,
            "visibility": null,
            "width": null
          }
        },
        "d33a25ccf0344b509fac481cb3f3a432": {
          "model_module": "@jupyter-widgets/controls",
          "model_name": "DescriptionStyleModel",
          "model_module_version": "1.5.0",
          "state": {
            "_model_module": "@jupyter-widgets/controls",
            "_model_module_version": "1.5.0",
            "_model_name": "DescriptionStyleModel",
            "_view_count": null,
            "_view_module": "@jupyter-widgets/base",
            "_view_module_version": "1.2.0",
            "_view_name": "StyleView",
            "description_width": ""
          }
        },
        "787f0d6b84fd426e8ee77adfa8c49e32": {
          "model_module": "@jupyter-widgets/base",
          "model_name": "LayoutModel",
          "model_module_version": "1.2.0",
          "state": {
            "_model_module": "@jupyter-widgets/base",
            "_model_module_version": "1.2.0",
            "_model_name": "LayoutModel",
            "_view_count": null,
            "_view_module": "@jupyter-widgets/base",
            "_view_module_version": "1.2.0",
            "_view_name": "LayoutView",
            "align_content": null,
            "align_items": null,
            "align_self": null,
            "border": null,
            "bottom": null,
            "display": null,
            "flex": null,
            "flex_flow": null,
            "grid_area": null,
            "grid_auto_columns": null,
            "grid_auto_flow": null,
            "grid_auto_rows": null,
            "grid_column": null,
            "grid_gap": null,
            "grid_row": null,
            "grid_template_areas": null,
            "grid_template_columns": null,
            "grid_template_rows": null,
            "height": null,
            "justify_content": null,
            "justify_items": null,
            "left": null,
            "margin": null,
            "max_height": null,
            "max_width": null,
            "min_height": null,
            "min_width": null,
            "object_fit": null,
            "object_position": null,
            "order": null,
            "overflow": null,
            "overflow_x": null,
            "overflow_y": null,
            "padding": null,
            "right": null,
            "top": null,
            "visibility": null,
            "width": null
          }
        },
        "5c7684919a504f08b341e807f24caf9a": {
          "model_module": "@jupyter-widgets/controls",
          "model_name": "ProgressStyleModel",
          "model_module_version": "1.5.0",
          "state": {
            "_model_module": "@jupyter-widgets/controls",
            "_model_module_version": "1.5.0",
            "_model_name": "ProgressStyleModel",
            "_view_count": null,
            "_view_module": "@jupyter-widgets/base",
            "_view_module_version": "1.2.0",
            "_view_name": "StyleView",
            "bar_color": null,
            "description_width": ""
          }
        },
        "581b49de8d614b1999e7bc4993bbae06": {
          "model_module": "@jupyter-widgets/base",
          "model_name": "LayoutModel",
          "model_module_version": "1.2.0",
          "state": {
            "_model_module": "@jupyter-widgets/base",
            "_model_module_version": "1.2.0",
            "_model_name": "LayoutModel",
            "_view_count": null,
            "_view_module": "@jupyter-widgets/base",
            "_view_module_version": "1.2.0",
            "_view_name": "LayoutView",
            "align_content": null,
            "align_items": null,
            "align_self": null,
            "border": null,
            "bottom": null,
            "display": null,
            "flex": null,
            "flex_flow": null,
            "grid_area": null,
            "grid_auto_columns": null,
            "grid_auto_flow": null,
            "grid_auto_rows": null,
            "grid_column": null,
            "grid_gap": null,
            "grid_row": null,
            "grid_template_areas": null,
            "grid_template_columns": null,
            "grid_template_rows": null,
            "height": null,
            "justify_content": null,
            "justify_items": null,
            "left": null,
            "margin": null,
            "max_height": null,
            "max_width": null,
            "min_height": null,
            "min_width": null,
            "object_fit": null,
            "object_position": null,
            "order": null,
            "overflow": null,
            "overflow_x": null,
            "overflow_y": null,
            "padding": null,
            "right": null,
            "top": null,
            "visibility": null,
            "width": null
          }
        },
        "5d0b6ae7485c46e29b8bf672285943fb": {
          "model_module": "@jupyter-widgets/controls",
          "model_name": "DescriptionStyleModel",
          "model_module_version": "1.5.0",
          "state": {
            "_model_module": "@jupyter-widgets/controls",
            "_model_module_version": "1.5.0",
            "_model_name": "DescriptionStyleModel",
            "_view_count": null,
            "_view_module": "@jupyter-widgets/base",
            "_view_module_version": "1.2.0",
            "_view_name": "StyleView",
            "description_width": ""
          }
        },
        "7364c28c7a9e4b42990615c6498a539c": {
          "model_module": "@jupyter-widgets/controls",
          "model_name": "HBoxModel",
          "model_module_version": "1.5.0",
          "state": {
            "_dom_classes": [],
            "_model_module": "@jupyter-widgets/controls",
            "_model_module_version": "1.5.0",
            "_model_name": "HBoxModel",
            "_view_count": null,
            "_view_module": "@jupyter-widgets/controls",
            "_view_module_version": "1.5.0",
            "_view_name": "HBoxView",
            "box_style": "",
            "children": [
              "IPY_MODEL_95b431d7e6394ffdacb384587c14425c",
              "IPY_MODEL_471e133856cc43888f0b896298dc3f4f",
              "IPY_MODEL_cdf8ac95540449a486bfe125e6aa6050"
            ],
            "layout": "IPY_MODEL_7b88125de43d4ced81e03e1ec931d38f"
          }
        },
        "95b431d7e6394ffdacb384587c14425c": {
          "model_module": "@jupyter-widgets/controls",
          "model_name": "HTMLModel",
          "model_module_version": "1.5.0",
          "state": {
            "_dom_classes": [],
            "_model_module": "@jupyter-widgets/controls",
            "_model_module_version": "1.5.0",
            "_model_name": "HTMLModel",
            "_view_count": null,
            "_view_module": "@jupyter-widgets/controls",
            "_view_module_version": "1.5.0",
            "_view_name": "HTMLView",
            "description": "",
            "description_tooltip": null,
            "layout": "IPY_MODEL_072e026f6e8c46afbcd429b37cbafd77",
            "placeholder": "​",
            "style": "IPY_MODEL_47f72485cefb4ec9b65620067fe2bcad",
            "value": "Downloading (…)okenizer_config.json: 100%"
          }
        },
        "471e133856cc43888f0b896298dc3f4f": {
          "model_module": "@jupyter-widgets/controls",
          "model_name": "FloatProgressModel",
          "model_module_version": "1.5.0",
          "state": {
            "_dom_classes": [],
            "_model_module": "@jupyter-widgets/controls",
            "_model_module_version": "1.5.0",
            "_model_name": "FloatProgressModel",
            "_view_count": null,
            "_view_module": "@jupyter-widgets/controls",
            "_view_module_version": "1.5.0",
            "_view_name": "ProgressView",
            "bar_style": "success",
            "description": "",
            "description_tooltip": null,
            "layout": "IPY_MODEL_5f140d0d591f4b26bf634df26b5d8852",
            "max": 637,
            "min": 0,
            "orientation": "horizontal",
            "style": "IPY_MODEL_2e71c673c2cd49d79cc9bf084cc1c085",
            "value": 637
          }
        },
        "cdf8ac95540449a486bfe125e6aa6050": {
          "model_module": "@jupyter-widgets/controls",
          "model_name": "HTMLModel",
          "model_module_version": "1.5.0",
          "state": {
            "_dom_classes": [],
            "_model_module": "@jupyter-widgets/controls",
            "_model_module_version": "1.5.0",
            "_model_name": "HTMLModel",
            "_view_count": null,
            "_view_module": "@jupyter-widgets/controls",
            "_view_module_version": "1.5.0",
            "_view_name": "HTMLView",
            "description": "",
            "description_tooltip": null,
            "layout": "IPY_MODEL_d0bc29f58cff44a3a427fe7c0e68eb48",
            "placeholder": "​",
            "style": "IPY_MODEL_332bc022454142e7a4a70b901bc48908",
            "value": " 637/637 [00:00&lt;00:00, 27.2kB/s]"
          }
        },
        "7b88125de43d4ced81e03e1ec931d38f": {
          "model_module": "@jupyter-widgets/base",
          "model_name": "LayoutModel",
          "model_module_version": "1.2.0",
          "state": {
            "_model_module": "@jupyter-widgets/base",
            "_model_module_version": "1.2.0",
            "_model_name": "LayoutModel",
            "_view_count": null,
            "_view_module": "@jupyter-widgets/base",
            "_view_module_version": "1.2.0",
            "_view_name": "LayoutView",
            "align_content": null,
            "align_items": null,
            "align_self": null,
            "border": null,
            "bottom": null,
            "display": null,
            "flex": null,
            "flex_flow": null,
            "grid_area": null,
            "grid_auto_columns": null,
            "grid_auto_flow": null,
            "grid_auto_rows": null,
            "grid_column": null,
            "grid_gap": null,
            "grid_row": null,
            "grid_template_areas": null,
            "grid_template_columns": null,
            "grid_template_rows": null,
            "height": null,
            "justify_content": null,
            "justify_items": null,
            "left": null,
            "margin": null,
            "max_height": null,
            "max_width": null,
            "min_height": null,
            "min_width": null,
            "object_fit": null,
            "object_position": null,
            "order": null,
            "overflow": null,
            "overflow_x": null,
            "overflow_y": null,
            "padding": null,
            "right": null,
            "top": null,
            "visibility": null,
            "width": null
          }
        },
        "072e026f6e8c46afbcd429b37cbafd77": {
          "model_module": "@jupyter-widgets/base",
          "model_name": "LayoutModel",
          "model_module_version": "1.2.0",
          "state": {
            "_model_module": "@jupyter-widgets/base",
            "_model_module_version": "1.2.0",
            "_model_name": "LayoutModel",
            "_view_count": null,
            "_view_module": "@jupyter-widgets/base",
            "_view_module_version": "1.2.0",
            "_view_name": "LayoutView",
            "align_content": null,
            "align_items": null,
            "align_self": null,
            "border": null,
            "bottom": null,
            "display": null,
            "flex": null,
            "flex_flow": null,
            "grid_area": null,
            "grid_auto_columns": null,
            "grid_auto_flow": null,
            "grid_auto_rows": null,
            "grid_column": null,
            "grid_gap": null,
            "grid_row": null,
            "grid_template_areas": null,
            "grid_template_columns": null,
            "grid_template_rows": null,
            "height": null,
            "justify_content": null,
            "justify_items": null,
            "left": null,
            "margin": null,
            "max_height": null,
            "max_width": null,
            "min_height": null,
            "min_width": null,
            "object_fit": null,
            "object_position": null,
            "order": null,
            "overflow": null,
            "overflow_x": null,
            "overflow_y": null,
            "padding": null,
            "right": null,
            "top": null,
            "visibility": null,
            "width": null
          }
        },
        "47f72485cefb4ec9b65620067fe2bcad": {
          "model_module": "@jupyter-widgets/controls",
          "model_name": "DescriptionStyleModel",
          "model_module_version": "1.5.0",
          "state": {
            "_model_module": "@jupyter-widgets/controls",
            "_model_module_version": "1.5.0",
            "_model_name": "DescriptionStyleModel",
            "_view_count": null,
            "_view_module": "@jupyter-widgets/base",
            "_view_module_version": "1.2.0",
            "_view_name": "StyleView",
            "description_width": ""
          }
        },
        "5f140d0d591f4b26bf634df26b5d8852": {
          "model_module": "@jupyter-widgets/base",
          "model_name": "LayoutModel",
          "model_module_version": "1.2.0",
          "state": {
            "_model_module": "@jupyter-widgets/base",
            "_model_module_version": "1.2.0",
            "_model_name": "LayoutModel",
            "_view_count": null,
            "_view_module": "@jupyter-widgets/base",
            "_view_module_version": "1.2.0",
            "_view_name": "LayoutView",
            "align_content": null,
            "align_items": null,
            "align_self": null,
            "border": null,
            "bottom": null,
            "display": null,
            "flex": null,
            "flex_flow": null,
            "grid_area": null,
            "grid_auto_columns": null,
            "grid_auto_flow": null,
            "grid_auto_rows": null,
            "grid_column": null,
            "grid_gap": null,
            "grid_row": null,
            "grid_template_areas": null,
            "grid_template_columns": null,
            "grid_template_rows": null,
            "height": null,
            "justify_content": null,
            "justify_items": null,
            "left": null,
            "margin": null,
            "max_height": null,
            "max_width": null,
            "min_height": null,
            "min_width": null,
            "object_fit": null,
            "object_position": null,
            "order": null,
            "overflow": null,
            "overflow_x": null,
            "overflow_y": null,
            "padding": null,
            "right": null,
            "top": null,
            "visibility": null,
            "width": null
          }
        },
        "2e71c673c2cd49d79cc9bf084cc1c085": {
          "model_module": "@jupyter-widgets/controls",
          "model_name": "ProgressStyleModel",
          "model_module_version": "1.5.0",
          "state": {
            "_model_module": "@jupyter-widgets/controls",
            "_model_module_version": "1.5.0",
            "_model_name": "ProgressStyleModel",
            "_view_count": null,
            "_view_module": "@jupyter-widgets/base",
            "_view_module_version": "1.2.0",
            "_view_name": "StyleView",
            "bar_color": null,
            "description_width": ""
          }
        },
        "d0bc29f58cff44a3a427fe7c0e68eb48": {
          "model_module": "@jupyter-widgets/base",
          "model_name": "LayoutModel",
          "model_module_version": "1.2.0",
          "state": {
            "_model_module": "@jupyter-widgets/base",
            "_model_module_version": "1.2.0",
            "_model_name": "LayoutModel",
            "_view_count": null,
            "_view_module": "@jupyter-widgets/base",
            "_view_module_version": "1.2.0",
            "_view_name": "LayoutView",
            "align_content": null,
            "align_items": null,
            "align_self": null,
            "border": null,
            "bottom": null,
            "display": null,
            "flex": null,
            "flex_flow": null,
            "grid_area": null,
            "grid_auto_columns": null,
            "grid_auto_flow": null,
            "grid_auto_rows": null,
            "grid_column": null,
            "grid_gap": null,
            "grid_row": null,
            "grid_template_areas": null,
            "grid_template_columns": null,
            "grid_template_rows": null,
            "height": null,
            "justify_content": null,
            "justify_items": null,
            "left": null,
            "margin": null,
            "max_height": null,
            "max_width": null,
            "min_height": null,
            "min_width": null,
            "object_fit": null,
            "object_position": null,
            "order": null,
            "overflow": null,
            "overflow_x": null,
            "overflow_y": null,
            "padding": null,
            "right": null,
            "top": null,
            "visibility": null,
            "width": null
          }
        },
        "332bc022454142e7a4a70b901bc48908": {
          "model_module": "@jupyter-widgets/controls",
          "model_name": "DescriptionStyleModel",
          "model_module_version": "1.5.0",
          "state": {
            "_model_module": "@jupyter-widgets/controls",
            "_model_module_version": "1.5.0",
            "_model_name": "DescriptionStyleModel",
            "_view_count": null,
            "_view_module": "@jupyter-widgets/base",
            "_view_module_version": "1.2.0",
            "_view_name": "StyleView",
            "description_width": ""
          }
        },
        "522c82987a0e4d0c8b762c7753f0eed8": {
          "model_module": "@jupyter-widgets/controls",
          "model_name": "HBoxModel",
          "model_module_version": "1.5.0",
          "state": {
            "_dom_classes": [],
            "_model_module": "@jupyter-widgets/controls",
            "_model_module_version": "1.5.0",
            "_model_name": "HBoxModel",
            "_view_count": null,
            "_view_module": "@jupyter-widgets/controls",
            "_view_module_version": "1.5.0",
            "_view_name": "HBoxView",
            "box_style": "",
            "children": [
              "IPY_MODEL_7b9c7f603f9f4a02bcb84885be7b5bd1",
              "IPY_MODEL_8fd83fb4efcb4748a5ca675808b514da",
              "IPY_MODEL_cf53b28e71f54d0db2378890debce7d0"
            ],
            "layout": "IPY_MODEL_6872259e19f74e258bc105e61c5f92ea"
          }
        },
        "7b9c7f603f9f4a02bcb84885be7b5bd1": {
          "model_module": "@jupyter-widgets/controls",
          "model_name": "HTMLModel",
          "model_module_version": "1.5.0",
          "state": {
            "_dom_classes": [],
            "_model_module": "@jupyter-widgets/controls",
            "_model_module_version": "1.5.0",
            "_model_name": "HTMLModel",
            "_view_count": null,
            "_view_module": "@jupyter-widgets/controls",
            "_view_module_version": "1.5.0",
            "_view_name": "HTMLView",
            "description": "",
            "description_tooltip": null,
            "layout": "IPY_MODEL_038da7cd597541a18944103b14264db4",
            "placeholder": "​",
            "style": "IPY_MODEL_eebd832201694cc48c321be2a7d70af2",
            "value": "Downloading (…)lve/main/config.json: 100%"
          }
        },
        "8fd83fb4efcb4748a5ca675808b514da": {
          "model_module": "@jupyter-widgets/controls",
          "model_name": "FloatProgressModel",
          "model_module_version": "1.5.0",
          "state": {
            "_dom_classes": [],
            "_model_module": "@jupyter-widgets/controls",
            "_model_module_version": "1.5.0",
            "_model_name": "FloatProgressModel",
            "_view_count": null,
            "_view_module": "@jupyter-widgets/controls",
            "_view_module_version": "1.5.0",
            "_view_name": "ProgressView",
            "bar_style": "success",
            "description": "",
            "description_tooltip": null,
            "layout": "IPY_MODEL_d0f57db7b3994ba8b76c5b5d1330101a",
            "max": 578,
            "min": 0,
            "orientation": "horizontal",
            "style": "IPY_MODEL_97a2a33588414edbb3f5af8fbb46c22d",
            "value": 578
          }
        },
        "cf53b28e71f54d0db2378890debce7d0": {
          "model_module": "@jupyter-widgets/controls",
          "model_name": "HTMLModel",
          "model_module_version": "1.5.0",
          "state": {
            "_dom_classes": [],
            "_model_module": "@jupyter-widgets/controls",
            "_model_module_version": "1.5.0",
            "_model_name": "HTMLModel",
            "_view_count": null,
            "_view_module": "@jupyter-widgets/controls",
            "_view_module_version": "1.5.0",
            "_view_name": "HTMLView",
            "description": "",
            "description_tooltip": null,
            "layout": "IPY_MODEL_13482417e5ed4a72bd514bc8bf7da44d",
            "placeholder": "​",
            "style": "IPY_MODEL_d2147ea9c7584c0597fabaf6aebac4bb",
            "value": " 578/578 [00:00&lt;00:00, 25.1kB/s]"
          }
        },
        "6872259e19f74e258bc105e61c5f92ea": {
          "model_module": "@jupyter-widgets/base",
          "model_name": "LayoutModel",
          "model_module_version": "1.2.0",
          "state": {
            "_model_module": "@jupyter-widgets/base",
            "_model_module_version": "1.2.0",
            "_model_name": "LayoutModel",
            "_view_count": null,
            "_view_module": "@jupyter-widgets/base",
            "_view_module_version": "1.2.0",
            "_view_name": "LayoutView",
            "align_content": null,
            "align_items": null,
            "align_self": null,
            "border": null,
            "bottom": null,
            "display": null,
            "flex": null,
            "flex_flow": null,
            "grid_area": null,
            "grid_auto_columns": null,
            "grid_auto_flow": null,
            "grid_auto_rows": null,
            "grid_column": null,
            "grid_gap": null,
            "grid_row": null,
            "grid_template_areas": null,
            "grid_template_columns": null,
            "grid_template_rows": null,
            "height": null,
            "justify_content": null,
            "justify_items": null,
            "left": null,
            "margin": null,
            "max_height": null,
            "max_width": null,
            "min_height": null,
            "min_width": null,
            "object_fit": null,
            "object_position": null,
            "order": null,
            "overflow": null,
            "overflow_x": null,
            "overflow_y": null,
            "padding": null,
            "right": null,
            "top": null,
            "visibility": null,
            "width": null
          }
        },
        "038da7cd597541a18944103b14264db4": {
          "model_module": "@jupyter-widgets/base",
          "model_name": "LayoutModel",
          "model_module_version": "1.2.0",
          "state": {
            "_model_module": "@jupyter-widgets/base",
            "_model_module_version": "1.2.0",
            "_model_name": "LayoutModel",
            "_view_count": null,
            "_view_module": "@jupyter-widgets/base",
            "_view_module_version": "1.2.0",
            "_view_name": "LayoutView",
            "align_content": null,
            "align_items": null,
            "align_self": null,
            "border": null,
            "bottom": null,
            "display": null,
            "flex": null,
            "flex_flow": null,
            "grid_area": null,
            "grid_auto_columns": null,
            "grid_auto_flow": null,
            "grid_auto_rows": null,
            "grid_column": null,
            "grid_gap": null,
            "grid_row": null,
            "grid_template_areas": null,
            "grid_template_columns": null,
            "grid_template_rows": null,
            "height": null,
            "justify_content": null,
            "justify_items": null,
            "left": null,
            "margin": null,
            "max_height": null,
            "max_width": null,
            "min_height": null,
            "min_width": null,
            "object_fit": null,
            "object_position": null,
            "order": null,
            "overflow": null,
            "overflow_x": null,
            "overflow_y": null,
            "padding": null,
            "right": null,
            "top": null,
            "visibility": null,
            "width": null
          }
        },
        "eebd832201694cc48c321be2a7d70af2": {
          "model_module": "@jupyter-widgets/controls",
          "model_name": "DescriptionStyleModel",
          "model_module_version": "1.5.0",
          "state": {
            "_model_module": "@jupyter-widgets/controls",
            "_model_module_version": "1.5.0",
            "_model_name": "DescriptionStyleModel",
            "_view_count": null,
            "_view_module": "@jupyter-widgets/base",
            "_view_module_version": "1.2.0",
            "_view_name": "StyleView",
            "description_width": ""
          }
        },
        "d0f57db7b3994ba8b76c5b5d1330101a": {
          "model_module": "@jupyter-widgets/base",
          "model_name": "LayoutModel",
          "model_module_version": "1.2.0",
          "state": {
            "_model_module": "@jupyter-widgets/base",
            "_model_module_version": "1.2.0",
            "_model_name": "LayoutModel",
            "_view_count": null,
            "_view_module": "@jupyter-widgets/base",
            "_view_module_version": "1.2.0",
            "_view_name": "LayoutView",
            "align_content": null,
            "align_items": null,
            "align_self": null,
            "border": null,
            "bottom": null,
            "display": null,
            "flex": null,
            "flex_flow": null,
            "grid_area": null,
            "grid_auto_columns": null,
            "grid_auto_flow": null,
            "grid_auto_rows": null,
            "grid_column": null,
            "grid_gap": null,
            "grid_row": null,
            "grid_template_areas": null,
            "grid_template_columns": null,
            "grid_template_rows": null,
            "height": null,
            "justify_content": null,
            "justify_items": null,
            "left": null,
            "margin": null,
            "max_height": null,
            "max_width": null,
            "min_height": null,
            "min_width": null,
            "object_fit": null,
            "object_position": null,
            "order": null,
            "overflow": null,
            "overflow_x": null,
            "overflow_y": null,
            "padding": null,
            "right": null,
            "top": null,
            "visibility": null,
            "width": null
          }
        },
        "97a2a33588414edbb3f5af8fbb46c22d": {
          "model_module": "@jupyter-widgets/controls",
          "model_name": "ProgressStyleModel",
          "model_module_version": "1.5.0",
          "state": {
            "_model_module": "@jupyter-widgets/controls",
            "_model_module_version": "1.5.0",
            "_model_name": "ProgressStyleModel",
            "_view_count": null,
            "_view_module": "@jupyter-widgets/base",
            "_view_module_version": "1.2.0",
            "_view_name": "StyleView",
            "bar_color": null,
            "description_width": ""
          }
        },
        "13482417e5ed4a72bd514bc8bf7da44d": {
          "model_module": "@jupyter-widgets/base",
          "model_name": "LayoutModel",
          "model_module_version": "1.2.0",
          "state": {
            "_model_module": "@jupyter-widgets/base",
            "_model_module_version": "1.2.0",
            "_model_name": "LayoutModel",
            "_view_count": null,
            "_view_module": "@jupyter-widgets/base",
            "_view_module_version": "1.2.0",
            "_view_name": "LayoutView",
            "align_content": null,
            "align_items": null,
            "align_self": null,
            "border": null,
            "bottom": null,
            "display": null,
            "flex": null,
            "flex_flow": null,
            "grid_area": null,
            "grid_auto_columns": null,
            "grid_auto_flow": null,
            "grid_auto_rows": null,
            "grid_column": null,
            "grid_gap": null,
            "grid_row": null,
            "grid_template_areas": null,
            "grid_template_columns": null,
            "grid_template_rows": null,
            "height": null,
            "justify_content": null,
            "justify_items": null,
            "left": null,
            "margin": null,
            "max_height": null,
            "max_width": null,
            "min_height": null,
            "min_width": null,
            "object_fit": null,
            "object_position": null,
            "order": null,
            "overflow": null,
            "overflow_x": null,
            "overflow_y": null,
            "padding": null,
            "right": null,
            "top": null,
            "visibility": null,
            "width": null
          }
        },
        "d2147ea9c7584c0597fabaf6aebac4bb": {
          "model_module": "@jupyter-widgets/controls",
          "model_name": "DescriptionStyleModel",
          "model_module_version": "1.5.0",
          "state": {
            "_model_module": "@jupyter-widgets/controls",
            "_model_module_version": "1.5.0",
            "_model_name": "DescriptionStyleModel",
            "_view_count": null,
            "_view_module": "@jupyter-widgets/base",
            "_view_module_version": "1.2.0",
            "_view_name": "StyleView",
            "description_width": ""
          }
        }
      }
    }
  },
  "nbformat": 4,
  "nbformat_minor": 0
}